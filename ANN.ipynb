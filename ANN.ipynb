{
  "nbformat": 4,
  "nbformat_minor": 0,
  "metadata": {
    "colab": {
      "provenance": [],
      "authorship_tag": "ABX9TyNt+yNmJ59hLuSjG7eBJci+",
      "include_colab_link": true
    },
    "kernelspec": {
      "name": "python3",
      "display_name": "Python 3"
    },
    "language_info": {
      "name": "python"
    }
  },
  "cells": [
    {
      "cell_type": "markdown",
      "metadata": {
        "id": "view-in-github",
        "colab_type": "text"
      },
      "source": [
        "<a href=\"https://colab.research.google.com/github/pritamrathod24/ML-Lab/blob/main/MNIST.ipynb\" target=\"_parent\"><img src=\"https://colab.research.google.com/assets/colab-badge.svg\" alt=\"Open In Colab\"/></a>"
      ]
    },
    {
      "cell_type": "markdown",
      "source": [
        "Loading the MNIST dataset in Keras"
      ],
      "metadata": {
        "id": "T__LznUwbDPz"
      }
    },
    {
      "cell_type": "code",
      "source": [
        "from keras.datasets import mnist\n",
        "(train_images, train_labels), (test_images, test_labels) = mnist.load_data()"
      ],
      "metadata": {
        "colab": {
          "base_uri": "https://localhost:8080/"
        },
        "id": "_O_Mxsc_YtOO",
        "outputId": "ff36f36d-c60c-4bdd-dd39-c2062133caf7"
      },
      "execution_count": 2,
      "outputs": [
        {
          "output_type": "stream",
          "name": "stdout",
          "text": [
            "Downloading data from https://storage.googleapis.com/tensorflow/tf-keras-datasets/mnist.npz\n",
            "11490434/11490434 [==============================] - 0s 0us/step\n"
          ]
        }
      ]
    },
    {
      "cell_type": "code",
      "source": [
        "train_images.shape\n",
        "len(train_labels)\n",
        "train_labels\n",
        "test_images.shape\n",
        "len(test_labels)\n",
        "test_labels\n"
      ],
      "metadata": {
        "colab": {
          "base_uri": "https://localhost:8080/"
        },
        "id": "GyD1vKTJY1af",
        "outputId": "b789a077-83d5-42e1-d063-1c8460f999fe"
      },
      "execution_count": 3,
      "outputs": [
        {
          "output_type": "execute_result",
          "data": {
            "text/plain": [
              "array([7, 2, 1, ..., 4, 5, 6], dtype=uint8)"
            ]
          },
          "metadata": {},
          "execution_count": 3
        }
      ]
    },
    {
      "cell_type": "markdown",
      "source": [
        "The network architecture"
      ],
      "metadata": {
        "id": "qwaI48nUZjeQ"
      }
    },
    {
      "cell_type": "code",
      "source": [
        "from keras import models\n",
        "from keras import layers\n",
        "network = models.Sequential()\n",
        "# Dense(32) is a fully-connected layer with 32 hidden units.\n",
        "# in the first layer, you must specify the expected input data shape :\n",
        "# here, 28 X 28=784 -dimensional vectors.\n",
        "network.add(layers.Dense(32, activation='sigmoid', input_shape=(28 * 28, )))\n",
        "network.add(layers.Dense(8, activation='sigmoid'))\n",
        "network.add(layers.Dense(10, activation='softmax'))\n",
        "network.summary()\n",
        "from google.colab import drive\n",
        "drive.mount('/content/drive')"
      ],
      "metadata": {
        "colab": {
          "base_uri": "https://localhost:8080/"
        },
        "id": "SuB6O3XHZH7y",
        "outputId": "c37ddd1c-78d5-4206-d32a-00793ebc028a"
      },
      "execution_count": 5,
      "outputs": [
        {
          "output_type": "stream",
          "name": "stdout",
          "text": [
            "Model: \"sequential_1\"\n",
            "_________________________________________________________________\n",
            " Layer (type)                Output Shape              Param #   \n",
            "=================================================================\n",
            " dense_3 (Dense)             (None, 32)                25120     \n",
            "                                                                 \n",
            " dense_4 (Dense)             (None, 8)                 264       \n",
            "                                                                 \n",
            " dense_5 (Dense)             (None, 10)                90        \n",
            "                                                                 \n",
            "=================================================================\n",
            "Total params: 25474 (99.51 KB)\n",
            "Trainable params: 25474 (99.51 KB)\n",
            "Non-trainable params: 0 (0.00 Byte)\n",
            "_________________________________________________________________\n",
            "Mounted at /content/drive\n"
          ]
        }
      ]
    },
    {
      "cell_type": "markdown",
      "source": [
        "The compilation step"
      ],
      "metadata": {
        "id": "JIx5CWcUZlx7"
      }
    },
    {
      "cell_type": "code",
      "source": [
        "network.compile(optimizer='sgd',\n",
        "                loss='categorical_crossentropy',\n",
        "                metrics=['accuracy'])"
      ],
      "metadata": {
        "id": "A82-2eHiZqsJ"
      },
      "execution_count": 6,
      "outputs": []
    },
    {
      "cell_type": "markdown",
      "source": [
        "Preparing the image data"
      ],
      "metadata": {
        "id": "VAr1Zxp8ZxuL"
      }
    },
    {
      "cell_type": "code",
      "source": [
        "train_images = train_images.reshape((60000, 28 * 28))\n",
        "train_images = train_images.astype('float32') / 255.\n",
        "test_images = test_images.reshape((10000, 28 * 28))\n",
        "test_images = test_images.astype('float32') / 255."
      ],
      "metadata": {
        "id": "ot_NauU1ZymJ"
      },
      "execution_count": 7,
      "outputs": []
    },
    {
      "cell_type": "markdown",
      "source": [
        "Preparing the labels"
      ],
      "metadata": {
        "id": "kdScyLByZ9di"
      }
    },
    {
      "cell_type": "code",
      "source": [
        "from keras.utils import to_categorical\n",
        "train_labels = to_categorical(train_labels)\n",
        "train_labels\n",
        "test_labels = to_categorical(test_labels)\n",
        "test_labels\n"
      ],
      "metadata": {
        "colab": {
          "base_uri": "https://localhost:8080/"
        },
        "id": "jT3os6pnZ_1z",
        "outputId": "4e2282ea-d775-4dcd-c179-03dd429ab9c5"
      },
      "execution_count": 8,
      "outputs": [
        {
          "output_type": "execute_result",
          "data": {
            "text/plain": [
              "array([[0., 0., 0., ..., 1., 0., 0.],\n",
              "       [0., 0., 1., ..., 0., 0., 0.],\n",
              "       [0., 1., 0., ..., 0., 0., 0.],\n",
              "       ...,\n",
              "       [0., 0., 0., ..., 0., 0., 0.],\n",
              "       [0., 0., 0., ..., 0., 0., 0.],\n",
              "       [0., 0., 0., ..., 0., 0., 0.]], dtype=float32)"
            ]
          },
          "metadata": {},
          "execution_count": 8
        }
      ]
    },
    {
      "cell_type": "markdown",
      "source": [
        "Training and Testing"
      ],
      "metadata": {
        "id": "24nim3_TaFCT"
      }
    },
    {
      "cell_type": "code",
      "source": [
        "network.fit(train_images, train_labels, epochs=160, batch_size=512)"
      ],
      "metadata": {
        "colab": {
          "base_uri": "https://localhost:8080/"
        },
        "id": "nWkkddtjaGxZ",
        "outputId": "e952957b-a7c0-491c-ce31-0a66f7596438"
      },
      "execution_count": 9,
      "outputs": [
        {
          "output_type": "stream",
          "name": "stdout",
          "text": [
            "Epoch 1/160\n",
            "118/118 [==============================] - 2s 7ms/step - loss: 2.3672 - accuracy: 0.1124\n",
            "Epoch 2/160\n",
            "118/118 [==============================] - 1s 5ms/step - loss: 2.3210 - accuracy: 0.1124\n",
            "Epoch 3/160\n",
            "118/118 [==============================] - 1s 5ms/step - loss: 2.2996 - accuracy: 0.1133\n",
            "Epoch 4/160\n",
            "118/118 [==============================] - 1s 5ms/step - loss: 2.2873 - accuracy: 0.1174\n",
            "Epoch 5/160\n",
            "118/118 [==============================] - 1s 6ms/step - loss: 2.2788 - accuracy: 0.1255\n",
            "Epoch 6/160\n",
            "118/118 [==============================] - 1s 6ms/step - loss: 2.2719 - accuracy: 0.1298\n",
            "Epoch 7/160\n",
            "118/118 [==============================] - 1s 6ms/step - loss: 2.2655 - accuracy: 0.1337\n",
            "Epoch 8/160\n",
            "118/118 [==============================] - 1s 6ms/step - loss: 2.2594 - accuracy: 0.1415\n",
            "Epoch 9/160\n",
            "118/118 [==============================] - 1s 6ms/step - loss: 2.2531 - accuracy: 0.1582\n",
            "Epoch 10/160\n",
            "118/118 [==============================] - 1s 6ms/step - loss: 2.2466 - accuracy: 0.1700\n",
            "Epoch 11/160\n",
            "118/118 [==============================] - 1s 6ms/step - loss: 2.2397 - accuracy: 0.1910\n",
            "Epoch 12/160\n",
            "118/118 [==============================] - 1s 6ms/step - loss: 2.2323 - accuracy: 0.2113\n",
            "Epoch 13/160\n",
            "118/118 [==============================] - 1s 4ms/step - loss: 2.2245 - accuracy: 0.2390\n",
            "Epoch 14/160\n",
            "118/118 [==============================] - 1s 5ms/step - loss: 2.2161 - accuracy: 0.2608\n",
            "Epoch 15/160\n",
            "118/118 [==============================] - 1s 6ms/step - loss: 2.2071 - accuracy: 0.2864\n",
            "Epoch 16/160\n",
            "118/118 [==============================] - 1s 5ms/step - loss: 2.1974 - accuracy: 0.3081\n",
            "Epoch 17/160\n",
            "118/118 [==============================] - 1s 8ms/step - loss: 2.1871 - accuracy: 0.3351\n",
            "Epoch 18/160\n",
            "118/118 [==============================] - 1s 8ms/step - loss: 2.1759 - accuracy: 0.3618\n",
            "Epoch 19/160\n",
            "118/118 [==============================] - 1s 9ms/step - loss: 2.1641 - accuracy: 0.3808\n",
            "Epoch 20/160\n",
            "118/118 [==============================] - 1s 9ms/step - loss: 2.1514 - accuracy: 0.3936\n",
            "Epoch 21/160\n",
            "118/118 [==============================] - 1s 7ms/step - loss: 2.1379 - accuracy: 0.4124\n",
            "Epoch 22/160\n",
            "118/118 [==============================] - 1s 4ms/step - loss: 2.1235 - accuracy: 0.4299\n",
            "Epoch 23/160\n",
            "118/118 [==============================] - 1s 5ms/step - loss: 2.1084 - accuracy: 0.4424\n",
            "Epoch 24/160\n",
            "118/118 [==============================] - 1s 6ms/step - loss: 2.0925 - accuracy: 0.4569\n",
            "Epoch 25/160\n",
            "118/118 [==============================] - 1s 5ms/step - loss: 2.0758 - accuracy: 0.4726\n",
            "Epoch 26/160\n",
            "118/118 [==============================] - 1s 5ms/step - loss: 2.0584 - accuracy: 0.4795\n",
            "Epoch 27/160\n",
            "118/118 [==============================] - 1s 4ms/step - loss: 2.0403 - accuracy: 0.4903\n",
            "Epoch 28/160\n",
            "118/118 [==============================] - 1s 5ms/step - loss: 2.0217 - accuracy: 0.4938\n",
            "Epoch 29/160\n",
            "118/118 [==============================] - 1s 6ms/step - loss: 2.0024 - accuracy: 0.5046\n",
            "Epoch 30/160\n",
            "118/118 [==============================] - 1s 6ms/step - loss: 1.9827 - accuracy: 0.5074\n",
            "Epoch 31/160\n",
            "118/118 [==============================] - 1s 6ms/step - loss: 1.9627 - accuracy: 0.5134\n",
            "Epoch 32/160\n",
            "118/118 [==============================] - 1s 6ms/step - loss: 1.9423 - accuracy: 0.5224\n",
            "Epoch 33/160\n",
            "118/118 [==============================] - 1s 8ms/step - loss: 1.9216 - accuracy: 0.5259\n",
            "Epoch 34/160\n",
            "118/118 [==============================] - 1s 6ms/step - loss: 1.9008 - accuracy: 0.5313\n",
            "Epoch 35/160\n",
            "118/118 [==============================] - 1s 6ms/step - loss: 1.8799 - accuracy: 0.5360\n",
            "Epoch 36/160\n",
            "118/118 [==============================] - 1s 7ms/step - loss: 1.8589 - accuracy: 0.5407\n",
            "Epoch 37/160\n",
            "118/118 [==============================] - 1s 8ms/step - loss: 1.8380 - accuracy: 0.5446\n",
            "Epoch 38/160\n",
            "118/118 [==============================] - 1s 8ms/step - loss: 1.8171 - accuracy: 0.5496\n",
            "Epoch 39/160\n",
            "118/118 [==============================] - 1s 9ms/step - loss: 1.7963 - accuracy: 0.5542\n",
            "Epoch 40/160\n",
            "118/118 [==============================] - 1s 9ms/step - loss: 1.7756 - accuracy: 0.5569\n",
            "Epoch 41/160\n",
            "118/118 [==============================] - 1s 6ms/step - loss: 1.7551 - accuracy: 0.5620\n",
            "Epoch 42/160\n",
            "118/118 [==============================] - 1s 6ms/step - loss: 1.7348 - accuracy: 0.5668\n",
            "Epoch 43/160\n",
            "118/118 [==============================] - 1s 6ms/step - loss: 1.7147 - accuracy: 0.5719\n",
            "Epoch 44/160\n",
            "118/118 [==============================] - 1s 8ms/step - loss: 1.6948 - accuracy: 0.5770\n",
            "Epoch 45/160\n",
            "118/118 [==============================] - 1s 9ms/step - loss: 1.6752 - accuracy: 0.5810\n",
            "Epoch 46/160\n",
            "118/118 [==============================] - 1s 6ms/step - loss: 1.6559 - accuracy: 0.5861\n",
            "Epoch 47/160\n",
            "118/118 [==============================] - 1s 6ms/step - loss: 1.6368 - accuracy: 0.5908\n",
            "Epoch 48/160\n",
            "118/118 [==============================] - 1s 6ms/step - loss: 1.6181 - accuracy: 0.5960\n",
            "Epoch 49/160\n",
            "118/118 [==============================] - 1s 6ms/step - loss: 1.5996 - accuracy: 0.6003\n",
            "Epoch 50/160\n",
            "118/118 [==============================] - 1s 6ms/step - loss: 1.5814 - accuracy: 0.6057\n",
            "Epoch 51/160\n",
            "118/118 [==============================] - 1s 5ms/step - loss: 1.5635 - accuracy: 0.6093\n",
            "Epoch 52/160\n",
            "118/118 [==============================] - 1s 6ms/step - loss: 1.5459 - accuracy: 0.6127\n",
            "Epoch 53/160\n",
            "118/118 [==============================] - 1s 6ms/step - loss: 1.5286 - accuracy: 0.6162\n",
            "Epoch 54/160\n",
            "118/118 [==============================] - 1s 6ms/step - loss: 1.5115 - accuracy: 0.6203\n",
            "Epoch 55/160\n",
            "118/118 [==============================] - 1s 8ms/step - loss: 1.4948 - accuracy: 0.6244\n",
            "Epoch 56/160\n",
            "118/118 [==============================] - 1s 9ms/step - loss: 1.4783 - accuracy: 0.6280\n",
            "Epoch 57/160\n",
            "118/118 [==============================] - 1s 9ms/step - loss: 1.4622 - accuracy: 0.6308\n",
            "Epoch 58/160\n",
            "118/118 [==============================] - 1s 9ms/step - loss: 1.4462 - accuracy: 0.6342\n",
            "Epoch 59/160\n",
            "118/118 [==============================] - 1s 6ms/step - loss: 1.4306 - accuracy: 0.6377\n",
            "Epoch 60/160\n",
            "118/118 [==============================] - 1s 6ms/step - loss: 1.4152 - accuracy: 0.6404\n",
            "Epoch 61/160\n",
            "118/118 [==============================] - 1s 6ms/step - loss: 1.4001 - accuracy: 0.6434\n",
            "Epoch 62/160\n",
            "118/118 [==============================] - 1s 6ms/step - loss: 1.3852 - accuracy: 0.6468\n",
            "Epoch 63/160\n",
            "118/118 [==============================] - 1s 6ms/step - loss: 1.3706 - accuracy: 0.6499\n",
            "Epoch 64/160\n",
            "118/118 [==============================] - 1s 6ms/step - loss: 1.3562 - accuracy: 0.6517\n",
            "Epoch 65/160\n",
            "118/118 [==============================] - 1s 6ms/step - loss: 1.3420 - accuracy: 0.6557\n",
            "Epoch 66/160\n",
            "118/118 [==============================] - 1s 6ms/step - loss: 1.3281 - accuracy: 0.6584\n",
            "Epoch 67/160\n",
            "118/118 [==============================] - 1s 5ms/step - loss: 1.3144 - accuracy: 0.6610\n",
            "Epoch 68/160\n",
            "118/118 [==============================] - 1s 5ms/step - loss: 1.3009 - accuracy: 0.6635\n",
            "Epoch 69/160\n",
            "118/118 [==============================] - 1s 6ms/step - loss: 1.2876 - accuracy: 0.6661\n",
            "Epoch 70/160\n",
            "118/118 [==============================] - 1s 5ms/step - loss: 1.2746 - accuracy: 0.6688\n",
            "Epoch 71/160\n",
            "118/118 [==============================] - 1s 5ms/step - loss: 1.2617 - accuracy: 0.6710\n",
            "Epoch 72/160\n",
            "118/118 [==============================] - 1s 5ms/step - loss: 1.2491 - accuracy: 0.6736\n",
            "Epoch 73/160\n",
            "118/118 [==============================] - 1s 5ms/step - loss: 1.2366 - accuracy: 0.6766\n",
            "Epoch 74/160\n",
            "118/118 [==============================] - 1s 7ms/step - loss: 1.2243 - accuracy: 0.6791\n",
            "Epoch 75/160\n",
            "118/118 [==============================] - 1s 8ms/step - loss: 1.2122 - accuracy: 0.6816\n",
            "Epoch 76/160\n",
            "118/118 [==============================] - 1s 8ms/step - loss: 1.2003 - accuracy: 0.6844\n",
            "Epoch 77/160\n",
            "118/118 [==============================] - 1s 8ms/step - loss: 1.1885 - accuracy: 0.6867\n",
            "Epoch 78/160\n",
            "118/118 [==============================] - 1s 8ms/step - loss: 1.1769 - accuracy: 0.6896\n",
            "Epoch 79/160\n",
            "118/118 [==============================] - 1s 7ms/step - loss: 1.1655 - accuracy: 0.6918\n",
            "Epoch 80/160\n",
            "118/118 [==============================] - 1s 6ms/step - loss: 1.1543 - accuracy: 0.6941\n",
            "Epoch 81/160\n",
            "118/118 [==============================] - 1s 6ms/step - loss: 1.1432 - accuracy: 0.6969\n",
            "Epoch 82/160\n",
            "118/118 [==============================] - 1s 6ms/step - loss: 1.1323 - accuracy: 0.6996\n",
            "Epoch 83/160\n",
            "118/118 [==============================] - 1s 5ms/step - loss: 1.1215 - accuracy: 0.7027\n",
            "Epoch 84/160\n",
            "118/118 [==============================] - 1s 5ms/step - loss: 1.1109 - accuracy: 0.7048\n",
            "Epoch 85/160\n",
            "118/118 [==============================] - 1s 6ms/step - loss: 1.1005 - accuracy: 0.7072\n",
            "Epoch 86/160\n",
            "118/118 [==============================] - 1s 5ms/step - loss: 1.0902 - accuracy: 0.7096\n",
            "Epoch 87/160\n",
            "118/118 [==============================] - 1s 5ms/step - loss: 1.0800 - accuracy: 0.7122\n",
            "Epoch 88/160\n",
            "118/118 [==============================] - 1s 6ms/step - loss: 1.0700 - accuracy: 0.7152\n",
            "Epoch 89/160\n",
            "118/118 [==============================] - 1s 6ms/step - loss: 1.0602 - accuracy: 0.7171\n",
            "Epoch 90/160\n",
            "118/118 [==============================] - 1s 5ms/step - loss: 1.0505 - accuracy: 0.7197\n",
            "Epoch 91/160\n",
            "118/118 [==============================] - 1s 6ms/step - loss: 1.0409 - accuracy: 0.7223\n",
            "Epoch 92/160\n",
            "118/118 [==============================] - 1s 6ms/step - loss: 1.0315 - accuracy: 0.7247\n",
            "Epoch 93/160\n",
            "118/118 [==============================] - 1s 6ms/step - loss: 1.0222 - accuracy: 0.7268\n",
            "Epoch 94/160\n",
            "118/118 [==============================] - 1s 8ms/step - loss: 1.0130 - accuracy: 0.7298\n",
            "Epoch 95/160\n",
            "118/118 [==============================] - 1s 9ms/step - loss: 1.0040 - accuracy: 0.7316\n",
            "Epoch 96/160\n",
            "118/118 [==============================] - 1s 9ms/step - loss: 0.9951 - accuracy: 0.7339\n",
            "Epoch 97/160\n",
            "118/118 [==============================] - 1s 9ms/step - loss: 0.9863 - accuracy: 0.7362\n",
            "Epoch 98/160\n",
            "118/118 [==============================] - 1s 7ms/step - loss: 0.9777 - accuracy: 0.7388\n",
            "Epoch 99/160\n",
            "118/118 [==============================] - 1s 6ms/step - loss: 0.9691 - accuracy: 0.7415\n",
            "Epoch 100/160\n",
            "118/118 [==============================] - 1s 6ms/step - loss: 0.9607 - accuracy: 0.7439\n",
            "Epoch 101/160\n",
            "118/118 [==============================] - 1s 6ms/step - loss: 0.9525 - accuracy: 0.7464\n",
            "Epoch 102/160\n",
            "118/118 [==============================] - 1s 6ms/step - loss: 0.9443 - accuracy: 0.7490\n",
            "Epoch 103/160\n",
            "118/118 [==============================] - 1s 6ms/step - loss: 0.9363 - accuracy: 0.7514\n",
            "Epoch 104/160\n",
            "118/118 [==============================] - 1s 6ms/step - loss: 0.9284 - accuracy: 0.7536\n",
            "Epoch 105/160\n",
            "118/118 [==============================] - 1s 6ms/step - loss: 0.9206 - accuracy: 0.7563\n",
            "Epoch 106/160\n",
            "118/118 [==============================] - 1s 6ms/step - loss: 0.9129 - accuracy: 0.7590\n",
            "Epoch 107/160\n",
            "118/118 [==============================] - 1s 6ms/step - loss: 0.9053 - accuracy: 0.7617\n",
            "Epoch 108/160\n",
            "118/118 [==============================] - 1s 6ms/step - loss: 0.8979 - accuracy: 0.7645\n",
            "Epoch 109/160\n",
            "118/118 [==============================] - 1s 6ms/step - loss: 0.8905 - accuracy: 0.7664\n",
            "Epoch 110/160\n",
            "118/118 [==============================] - 1s 6ms/step - loss: 0.8833 - accuracy: 0.7693\n",
            "Epoch 111/160\n",
            "118/118 [==============================] - 1s 5ms/step - loss: 0.8761 - accuracy: 0.7718\n",
            "Epoch 112/160\n",
            "118/118 [==============================] - 1s 5ms/step - loss: 0.8691 - accuracy: 0.7743\n",
            "Epoch 113/160\n",
            "118/118 [==============================] - 1s 8ms/step - loss: 0.8622 - accuracy: 0.7766\n",
            "Epoch 114/160\n",
            "118/118 [==============================] - 1s 9ms/step - loss: 0.8554 - accuracy: 0.7787\n",
            "Epoch 115/160\n",
            "118/118 [==============================] - 1s 8ms/step - loss: 0.8487 - accuracy: 0.7804\n",
            "Epoch 116/160\n",
            "118/118 [==============================] - 1s 9ms/step - loss: 0.8421 - accuracy: 0.7827\n",
            "Epoch 117/160\n",
            "118/118 [==============================] - 1s 8ms/step - loss: 0.8356 - accuracy: 0.7850\n",
            "Epoch 118/160\n",
            "118/118 [==============================] - 1s 6ms/step - loss: 0.8292 - accuracy: 0.7872\n",
            "Epoch 119/160\n",
            "118/118 [==============================] - 1s 6ms/step - loss: 0.8229 - accuracy: 0.7895\n",
            "Epoch 120/160\n",
            "118/118 [==============================] - 1s 6ms/step - loss: 0.8167 - accuracy: 0.7919\n",
            "Epoch 121/160\n",
            "118/118 [==============================] - 1s 6ms/step - loss: 0.8106 - accuracy: 0.7936\n",
            "Epoch 122/160\n",
            "118/118 [==============================] - 1s 6ms/step - loss: 0.8046 - accuracy: 0.7958\n",
            "Epoch 123/160\n",
            "118/118 [==============================] - 1s 5ms/step - loss: 0.7987 - accuracy: 0.7979\n",
            "Epoch 124/160\n",
            "118/118 [==============================] - 1s 5ms/step - loss: 0.7929 - accuracy: 0.7997\n",
            "Epoch 125/160\n",
            "118/118 [==============================] - 1s 5ms/step - loss: 0.7871 - accuracy: 0.8017\n",
            "Epoch 126/160\n",
            "118/118 [==============================] - 1s 6ms/step - loss: 0.7815 - accuracy: 0.8033\n",
            "Epoch 127/160\n",
            "118/118 [==============================] - 1s 6ms/step - loss: 0.7759 - accuracy: 0.8051\n",
            "Epoch 128/160\n",
            "118/118 [==============================] - 1s 6ms/step - loss: 0.7705 - accuracy: 0.8068\n",
            "Epoch 129/160\n",
            "118/118 [==============================] - 1s 6ms/step - loss: 0.7651 - accuracy: 0.8085\n",
            "Epoch 130/160\n",
            "118/118 [==============================] - 1s 5ms/step - loss: 0.7598 - accuracy: 0.8104\n",
            "Epoch 131/160\n",
            "118/118 [==============================] - 1s 5ms/step - loss: 0.7546 - accuracy: 0.8116\n",
            "Epoch 132/160\n",
            "118/118 [==============================] - 1s 6ms/step - loss: 0.7495 - accuracy: 0.8138\n",
            "Epoch 133/160\n",
            "118/118 [==============================] - 1s 7ms/step - loss: 0.7444 - accuracy: 0.8150\n",
            "Epoch 134/160\n",
            "118/118 [==============================] - 1s 9ms/step - loss: 0.7395 - accuracy: 0.8165\n",
            "Epoch 135/160\n",
            "118/118 [==============================] - 1s 9ms/step - loss: 0.7346 - accuracy: 0.8185\n",
            "Epoch 136/160\n",
            "118/118 [==============================] - 1s 9ms/step - loss: 0.7297 - accuracy: 0.8198\n",
            "Epoch 137/160\n",
            "118/118 [==============================] - 1s 6ms/step - loss: 0.7250 - accuracy: 0.8214\n",
            "Epoch 138/160\n",
            "118/118 [==============================] - 1s 5ms/step - loss: 0.7203 - accuracy: 0.8228\n",
            "Epoch 139/160\n",
            "118/118 [==============================] - 1s 6ms/step - loss: 0.7157 - accuracy: 0.8242\n",
            "Epoch 140/160\n",
            "118/118 [==============================] - 1s 6ms/step - loss: 0.7112 - accuracy: 0.8256\n",
            "Epoch 141/160\n",
            "118/118 [==============================] - 1s 6ms/step - loss: 0.7067 - accuracy: 0.8269\n",
            "Epoch 142/160\n",
            "118/118 [==============================] - 1s 6ms/step - loss: 0.7023 - accuracy: 0.8281\n",
            "Epoch 143/160\n",
            "118/118 [==============================] - 1s 6ms/step - loss: 0.6980 - accuracy: 0.8291\n",
            "Epoch 144/160\n",
            "118/118 [==============================] - 1s 6ms/step - loss: 0.6937 - accuracy: 0.8303\n",
            "Epoch 145/160\n",
            "118/118 [==============================] - 1s 6ms/step - loss: 0.6895 - accuracy: 0.8315\n",
            "Epoch 146/160\n",
            "118/118 [==============================] - 1s 6ms/step - loss: 0.6854 - accuracy: 0.8326\n",
            "Epoch 147/160\n",
            "118/118 [==============================] - 1s 6ms/step - loss: 0.6813 - accuracy: 0.8338\n",
            "Epoch 148/160\n",
            "118/118 [==============================] - 1s 6ms/step - loss: 0.6772 - accuracy: 0.8348\n",
            "Epoch 149/160\n",
            "118/118 [==============================] - 1s 6ms/step - loss: 0.6733 - accuracy: 0.8360\n",
            "Epoch 150/160\n",
            "118/118 [==============================] - 1s 6ms/step - loss: 0.6693 - accuracy: 0.8369\n",
            "Epoch 151/160\n",
            "118/118 [==============================] - 1s 6ms/step - loss: 0.6655 - accuracy: 0.8378\n",
            "Epoch 152/160\n",
            "118/118 [==============================] - 1s 9ms/step - loss: 0.6617 - accuracy: 0.8388\n",
            "Epoch 153/160\n",
            "118/118 [==============================] - 1s 9ms/step - loss: 0.6579 - accuracy: 0.8396\n",
            "Epoch 154/160\n",
            "118/118 [==============================] - 1s 9ms/step - loss: 0.6542 - accuracy: 0.8406\n",
            "Epoch 155/160\n",
            "118/118 [==============================] - 1s 7ms/step - loss: 0.6505 - accuracy: 0.8414\n",
            "Epoch 156/160\n",
            "118/118 [==============================] - 1s 6ms/step - loss: 0.6469 - accuracy: 0.8423\n",
            "Epoch 157/160\n",
            "118/118 [==============================] - 1s 5ms/step - loss: 0.6434 - accuracy: 0.8432\n",
            "Epoch 158/160\n",
            "118/118 [==============================] - 1s 5ms/step - loss: 0.6398 - accuracy: 0.8442\n",
            "Epoch 159/160\n",
            "118/118 [==============================] - 1s 5ms/step - loss: 0.6364 - accuracy: 0.8449\n",
            "Epoch 160/160\n",
            "118/118 [==============================] - 1s 6ms/step - loss: 0.6330 - accuracy: 0.8456\n"
          ]
        },
        {
          "output_type": "execute_result",
          "data": {
            "text/plain": [
              "<keras.src.callbacks.History at 0x7fbca2150730>"
            ]
          },
          "metadata": {},
          "execution_count": 9
        }
      ]
    },
    {
      "cell_type": "code",
      "source": [
        "test_loss, test_acc = network.evaluate(test_images, test_labels)\n",
        "print('Test Accuracy: {:.5f} '.format(test_acc))\n",
        "test_acc"
      ],
      "metadata": {
        "colab": {
          "base_uri": "https://localhost:8080/"
        },
        "id": "OM4PaxvsatBd",
        "outputId": "b015d438-7eb2-4b40-ffbb-026fa3d869d0"
      },
      "execution_count": 10,
      "outputs": [
        {
          "output_type": "stream",
          "name": "stdout",
          "text": [
            "313/313 [==============================] - 3s 6ms/step - loss: 0.6185 - accuracy: 0.8554\n",
            "Test Accuracy: 0.85540 \n"
          ]
        },
        {
          "output_type": "execute_result",
          "data": {
            "text/plain": [
              "0.855400025844574"
            ]
          },
          "metadata": {},
          "execution_count": 10
        }
      ]
    },
    {
      "cell_type": "code",
      "source": [
        "from keras.utils import plot_model\n",
        "plot_model(network, to_file='model.png')\n",
        "import matplotlib.pyplot as plt\n",
        "history =network.fit(train_images, train_labels, validation_split=0.33,epochs=5, batch_size=512)\n",
        "history_dict = history.history\n",
        "print(history_dict.keys())\n",
        "plt.plot(history.history['accuracy'])\n",
        "plt.plot(history.history['val_accuracy'])\n",
        "plt.title('Model accuracy')\n",
        "plt.ylabel('Accuracy')\n",
        "plt.xlabel('Epoch')\n",
        "plt.legend(['Train', 'Test'], loc='upper left')\n",
        "plt.show()\n",
        "\n",
        "\n",
        "# Plot training & validation loss values\n",
        "plt.plot(history.history['loss'])\n",
        "plt.plot(history.history['val_loss'])\n",
        "plt.title('Model loss')\n",
        "plt.ylabel('Loss')\n",
        "plt.xlabel('Epoch')\n",
        "plt.legend(['Train', 'Test'], loc='upper left')\n",
        "plt.show()\n"
      ],
      "metadata": {
        "colab": {
          "base_uri": "https://localhost:8080/",
          "height": 1000
        },
        "id": "L4Mix2GmazyU",
        "outputId": "4d7d6a26-2772-45b9-afa1-10bab0dcd2da"
      },
      "execution_count": 11,
      "outputs": [
        {
          "output_type": "stream",
          "name": "stdout",
          "text": [
            "Epoch 1/5\n",
            "79/79 [==============================] - 1s 8ms/step - loss: 0.6347 - accuracy: 0.8453 - val_loss: 0.6198 - val_accuracy: 0.8486\n",
            "Epoch 2/5\n",
            "79/79 [==============================] - 1s 8ms/step - loss: 0.6324 - accuracy: 0.8463 - val_loss: 0.6176 - val_accuracy: 0.8495\n",
            "Epoch 3/5\n",
            "79/79 [==============================] - 1s 13ms/step - loss: 0.6301 - accuracy: 0.8468 - val_loss: 0.6155 - val_accuracy: 0.8501\n",
            "Epoch 4/5\n",
            "79/79 [==============================] - 1s 13ms/step - loss: 0.6279 - accuracy: 0.8472 - val_loss: 0.6134 - val_accuracy: 0.8503\n",
            "Epoch 5/5\n",
            "79/79 [==============================] - 1s 12ms/step - loss: 0.6256 - accuracy: 0.8481 - val_loss: 0.6113 - val_accuracy: 0.8513\n",
            "dict_keys(['loss', 'accuracy', 'val_loss', 'val_accuracy'])\n"
          ]
        },
        {
          "output_type": "display_data",
          "data": {
            "text/plain": [
              "<Figure size 640x480 with 1 Axes>"
            ],
            "image/png": "[encoded data removed]"
          },
          "metadata": {}
        },
        {
          "output_type": "display_data",
          "data": {
            "text/plain": [
              "<Figure size 640x480 with 1 Axes>"
            ],
            "image/png": "[encoded data removed]"
          },
          "metadata": {}
        }
      ]
    }
  ]
}
